{
 "cells": [
  {
   "cell_type": "markdown",
   "id": "686c8067",
   "metadata": {
    "deletable": false,
    "editable": false,
    "nbgrader": {
     "grade": false,
     "grade_id": "cell-89969ffa36503ffb",
     "locked": true,
     "schema_version": 3,
     "solution": false,
     "task": false
    }
   },
   "source": [
    "# SLU 17_3 - Exam Prep I\n",
    "\n",
    "## Batch 2 - Wave 2 Python Exam\n",
    "This is the Python exam from batch 2 - wave 2. Exam Duration: 2h"
   ]
  },
  {
   "cell_type": "code",
   "execution_count": 10,
   "id": "7d7a5e36",
   "metadata": {
    "deletable": false,
    "editable": false,
    "nbgrader": {
     "grade": false,
     "grade_id": "cell-6b65decf9204e5b9",
     "locked": true,
     "schema_version": 3,
     "solution": false,
     "task": false
    }
   },
   "outputs": [],
   "source": [
    "import json\n",
    "from operator import itemgetter\n",
    "import random\n",
    "#used for evaluation\n",
    "from utils import DataGenerator\n",
    "import math\n",
    "import sys\n",
    "\n",
    "data = DataGenerator()"
   ]
  },
  {
   "cell_type": "markdown",
   "id": "d378681d",
   "metadata": {
    "deletable": false,
    "editable": false,
    "nbgrader": {
     "grade": false,
     "grade_id": "cell-fd89bd0afbd4e368",
     "locked": true,
     "schema_version": 3,
     "solution": false,
     "task": false
    }
   },
   "source": [
    "## Question 1\n",
    "\n",
    "The variable `data` is a list of dictionaries.\n",
    "\n",
    "Create a function `replace_unknown` that:\n",
    "- Receives as argument a list of dictionaries;\n",
    "- In each dictionary, it replaces all the '?' you find with the string value '1';\n",
    "- Returns the modified list of dictionaires;\n",
    "\n",
    "Note: values should retain the original datatypes."
   ]
  },
  {
   "cell_type": "code",
   "execution_count": 11,
   "id": "bbf38525",
   "metadata": {
    "deletable": false,
    "nbgrader": {
     "grade": false,
     "grade_id": "cell-7d5d16f632d819c3",
     "locked": false,
     "schema_version": 3,
     "solution": true,
     "task": false
    }
   },
   "outputs": [],
   "source": [
    "def replace_unknown(data):\n",
    "    replace = [{w: w2.replace('?', '1') if isinstance(w2, str) else w2 for w, w2 in animal.items()}\n",
    "              for animal in data]\n",
    "    return replace"
   ]
  },
  {
   "cell_type": "code",
   "execution_count": 12,
   "id": "69071a6d",
   "metadata": {
    "deletable": false,
    "editable": false,
    "nbgrader": {
     "grade": true,
     "grade_id": "cell-2ec0be01019aa1ce",
     "locked": true,
     "points": 3,
     "schema_version": 3,
     "solution": false,
     "task": false
    }
   },
   "outputs": [
    {
     "name": "stdout",
     "output_type": "stream",
     "text": [
      "Answer is correct. Good Job.\n"
     ]
    }
   ],
   "source": [
    "data_raw = data.data\n",
    "columns = list(data_raw[0].keys())\n",
    "data_replaced = replace_unknown(data_raw)\n",
    "assert len(data_replaced) == 11, \"Not correct. Keep trying.\"\n",
    "assert isinstance(data_replaced, list), \"Not correct. Keep trying.\"\n",
    "for animal in data_replaced:\n",
    "    assert isinstance(animal, dict), \"Not correct. Keep trying.\"\n",
    "    assert len(animal) == 10, \"Not correct. Keep trying.\"\n",
    "\n",
    "    for k, v in animal.items():\n",
    "        if isinstance(v, str):\n",
    "            assert \"?\" not in v, \"Not correct. Keep trying.\"\n",
    "        assert k in columns, \"Not correct. Keep trying.\"\n",
    "        if k == \"feathers\":\n",
    "            assert isinstance(v, str), \"Not correct. Keep trying.\"\n",
    "        elif k == \"eggs\":\n",
    "            assert isinstance(v, int), \"Not correct. Keep trying.\"\n",
    "        elif k == \"aquatic\":\n",
    "            assert isinstance(v, str), \"Not correct. Keep trying.\"\n",
    "\n",
    "assert data_replaced[0][\"feathers\"] == \"1\", \"Not correct. Keep trying.\"\n",
    "assert data_replaced[1][\"feathers\"] == \"0\", \"Not correct. Keep trying.\"\n",
    "assert data_replaced[1][\"legs\"] == 4, \"Not correct. Keep trying.\"\n",
    "assert data_replaced[0][\"feathers\"] == \"1\", \"Not correct. Keep trying.\"\n",
    "assert data_replaced[8][\"aquatic\"] == \"0\", \"Not correct. Keep trying.\"\n",
    "assert data_replaced[5][\"aquatic\"] == \"1\", \"Not correct. Keep trying.\"\n",
    "\n",
    "print(\"Answer is correct. Good Job.\")"
   ]
  },
  {
   "cell_type": "markdown",
   "id": "71e404b7",
   "metadata": {
    "deletable": false,
    "editable": false,
    "nbgrader": {
     "grade": false,
     "grade_id": "cell-3621c2a2ef02f627",
     "locked": true,
     "schema_version": 3,
     "solution": false,
     "task": false
    }
   },
   "source": [
    "## Question 2\n",
    "\n",
    "The variable `data` is a list of dictionaries.\n",
    "\n",
    "Create a function `convert_int` that:\n",
    "- Receives as argument a list of dictionaries;\n",
    "- In each dictionary, find all the numeric values and make sure their data type is `int`;\n",
    "- Returns the modified list of dictionaires;\n",
    "\n",
    "Hint: `isdigit()`"
   ]
  },
  {
   "cell_type": "code",
   "execution_count": 13,
   "id": "54a01c88",
   "metadata": {
    "deletable": false,
    "nbgrader": {
     "grade": false,
     "grade_id": "cell-5b768d0072b87818",
     "locked": false,
     "schema_version": 3,
     "solution": true,
     "task": false
    }
   },
   "outputs": [],
   "source": [
    "def convert_int(data):\n",
    "    convert = [{w: int(w2) if isinstance(w2, str) and w2.isdigit() else w2\n",
    "                for w, w2 in animal.items()}\n",
    "              for animal in data]\n",
    "    return convert"
   ]
  },
  {
   "cell_type": "code",
   "execution_count": 14,
   "id": "7f388139",
   "metadata": {
    "deletable": false,
    "editable": false,
    "nbgrader": {
     "grade": true,
     "grade_id": "cell-9138a4e7a89f3adc",
     "locked": true,
     "points": 3,
     "schema_version": 3,
     "solution": false,
     "task": false
    }
   },
   "outputs": [
    {
     "name": "stdout",
     "output_type": "stream",
     "text": [
      "Answer is correct. Good Job.\n"
     ]
    }
   ],
   "source": [
    "data_replaced = data.data_replaced\n",
    "columns = list(data_replaced[0].keys())\n",
    "data_int = convert_int(data_replaced)\n",
    "\n",
    "assert len(data_int) == 11, \"Not correct. Keep trying.\"\n",
    "assert isinstance(data_int, list), \"Not correct. Keep trying.\"\n",
    "for animal in data_int:\n",
    "    assert isinstance(animal, dict), \"Not correct. Keep trying.\"\n",
    "    assert len(animal) == 10, \"Not correct. Keep trying.\"\n",
    "\n",
    "    for k, v in animal.items():\n",
    "        if isinstance(v, str):\n",
    "            assert \"?\" not in v, \"Not correct. Keep trying.\"\n",
    "        assert k in columns, \"Not correct. Keep trying.\"\n",
    "        if k in [\"animal_name\", \"class_type\"]:\n",
    "            assert isinstance(v, str), \"Not correct. Keep trying.\"\n",
    "        else:\n",
    "            assert isinstance(v, int), \"Not correct. Keep trying.\"\n",
    "\n",
    "assert data_int[0][\"feathers\"] == 1, \"Not correct. Keep trying.\"\n",
    "assert data_int[1][\"feathers\"] == 0, \"Not correct. Keep trying.\"\n",
    "assert data_int[1][\"legs\"] == 4, \"Not correct. Keep trying.\"\n",
    "assert data_int[0][\"feathers\"] == 1, \"Not correct. Keep trying.\"\n",
    "assert data_int[8][\"aquatic\"] == 0, \"Not correct. Keep trying.\"\n",
    "assert data_int[5][\"aquatic\"] == 1, \"Not correct. Keep trying.\"\n",
    "\n",
    "print(\"Answer is correct. Good Job.\")"
   ]
  },
  {
   "cell_type": "markdown",
   "id": "e715d86a",
   "metadata": {
    "deletable": false,
    "editable": false,
    "nbgrader": {
     "grade": false,
     "grade_id": "cell-279e83540d9c180f",
     "locked": true,
     "schema_version": 3,
     "solution": false,
     "task": false
    }
   },
   "source": [
    "## Question 3\n",
    "\n",
    "The variable `data` is a list of dictionaries.\n",
    "\n",
    "Create a function `lower_class` that:\n",
    "\n",
    "- Receives as argument a list of dictionaries;\n",
    "- For each element of the list, find the key 'class_type' and convert the correspondent value to lower case;\n",
    "- Returns the modified list of dictionaires;"
   ]
  },
  {
   "cell_type": "code",
   "execution_count": 15,
   "id": "6139711d",
   "metadata": {
    "deletable": false,
    "nbgrader": {
     "grade": false,
     "grade_id": "cell-0f7774d47c55eb30",
     "locked": false,
     "schema_version": 3,
     "solution": true,
     "task": false
    }
   },
   "outputs": [],
   "source": [
    "def lower_class(data):\n",
    "    lower = [{w: w2.lower() if w == 'class_type' else w2 \n",
    "            for w, w2 in animal.items()}\n",
    "            for animal in data]\n",
    "    return lower"
   ]
  },
  {
   "cell_type": "code",
   "execution_count": 16,
   "id": "2a3eb0fa",
   "metadata": {
    "deletable": false,
    "editable": false,
    "nbgrader": {
     "grade": true,
     "grade_id": "cell-3a68fa6f6e905977",
     "locked": true,
     "points": 3,
     "schema_version": 3,
     "solution": false,
     "task": false
    }
   },
   "outputs": [
    {
     "name": "stdout",
     "output_type": "stream",
     "text": [
      "Answer is correct. Good Job.\n"
     ]
    }
   ],
   "source": [
    "data_int = data.data_int\n",
    "columns = list(data_int[0].keys())\n",
    "data_class = lower_class(data_int)\n",
    "\n",
    "assert len(data_class) == 11, \"Not correct. Keep trying.\"\n",
    "assert isinstance(data_class, list), \"Not correct. Keep trying.\"\n",
    "for animal in data_class:\n",
    "    assert isinstance(animal, dict), \"Not correct. Keep trying.\"\n",
    "    assert len(animal) == 10, \"Not correct. Keep trying.\"\n",
    "\n",
    "    for k, v in animal.items():\n",
    "        if isinstance(v, str):\n",
    "            assert \"?\" not in v, \"Not correct. Keep trying.\"\n",
    "        assert k in columns, \"Not correct. Keep trying.\"\n",
    "        if k in [\"animal_name\", \"class_type\"]:\n",
    "            assert isinstance(v, str), \"Not correct. Keep trying.\"\n",
    "        else:\n",
    "            assert isinstance(v, int), \"Not correct. Keep trying.\"\n",
    "\n",
    "        if k == \"class_type\":\n",
    "            assert v.lower() == v, \"Not correct. Keep trying.\"\n",
    "\n",
    "assert data_class[0][\"feathers\"] == 1, \"Not correct. Keep trying.\"\n",
    "assert data_class[1][\"feathers\"] == 0, \"Not correct. Keep trying.\"\n",
    "assert data_class[1][\"legs\"] == 4, \"Not correct. Keep trying.\"\n",
    "assert data_class[0][\"feathers\"] == 1, \"Not correct. Keep trying.\"\n",
    "assert data_class[8][\"aquatic\"] == 0, \"Not correct. Keep trying.\"\n",
    "assert data_class[5][\"aquatic\"] == 1, \"Not correct. Keep trying.\"\n",
    "\n",
    "print(\"Answer is correct. Good Job.\")"
   ]
  },
  {
   "cell_type": "markdown",
   "id": "36ac1f3b",
   "metadata": {
    "deletable": false,
    "editable": false,
    "nbgrader": {
     "grade": false,
     "grade_id": "cell-2d6d311be1937561",
     "locked": true,
     "schema_version": 3,
     "solution": false,
     "task": false
    }
   },
   "source": [
    "## Question 4\n",
    "\n",
    "The variable `data` is a list of dictionaries.\n",
    "\n",
    "Create a function `order_animals` that:\n",
    "\n",
    "- Receives as argument a list of dictionaries;\n",
    "- Order the animals by number of legs;\n",
    "- Return them as a list of (animal_name, class_type, legs) tuples;"
   ]
  },
  {
   "cell_type": "code",
   "execution_count": 19,
   "id": "ee4dd783",
   "metadata": {
    "deletable": false,
    "nbgrader": {
     "grade": false,
     "grade_id": "cell-122a9ec5cefa138a",
     "locked": false,
     "schema_version": 3,
     "solution": true,
     "task": false
    }
   },
   "outputs": [],
   "source": [
    "def order_animals(data):\n",
    "    data_sorted = list(sorted(utils.generate_data_lower(), key=itemgetter('legs')))\n",
    "    order = [(animal['animal_name'], animal['class_type'], animal['legs'])\n",
    "              for animal in data_sorted]\n",
    "    return order\n",
    " "
   ]
  },
  {
   "cell_type": "code",
   "execution_count": 20,
   "id": "d56cc29d",
   "metadata": {
    "deletable": false,
    "editable": false,
    "nbgrader": {
     "grade": true,
     "grade_id": "cell-4c4b419744a6ebf6",
     "locked": true,
     "points": 3,
     "schema_version": 3,
     "solution": false,
     "task": false
    }
   },
   "outputs": [
    {
     "ename": "NameError",
     "evalue": "name 'utils' is not defined",
     "output_type": "error",
     "traceback": [
      "\u001b[0;31m---------------------------------------------------------------------------\u001b[0m",
      "\u001b[0;31mNameError\u001b[0m                                 Traceback (most recent call last)",
      "\u001b[0;32m/tmp/ipykernel_393/3764661711.py\u001b[0m in \u001b[0;36m<module>\u001b[0;34m\u001b[0m\n\u001b[1;32m      1\u001b[0m \u001b[0mdata_lower\u001b[0m \u001b[0;34m=\u001b[0m \u001b[0mdata\u001b[0m\u001b[0;34m.\u001b[0m\u001b[0mdata_lower\u001b[0m\u001b[0;34m\u001b[0m\u001b[0;34m\u001b[0m\u001b[0m\n\u001b[0;32m----> 2\u001b[0;31m \u001b[0mdata_order\u001b[0m \u001b[0;34m=\u001b[0m \u001b[0morder_animals\u001b[0m\u001b[0;34m(\u001b[0m\u001b[0mdata_lower\u001b[0m\u001b[0;34m)\u001b[0m\u001b[0;34m\u001b[0m\u001b[0;34m\u001b[0m\u001b[0m\n\u001b[0m\u001b[1;32m      3\u001b[0m \u001b[0;32massert\u001b[0m \u001b[0misinstance\u001b[0m\u001b[0;34m(\u001b[0m\u001b[0mdata_order\u001b[0m\u001b[0;34m,\u001b[0m \u001b[0mlist\u001b[0m\u001b[0;34m)\u001b[0m\u001b[0;34m,\u001b[0m \u001b[0;34m\"Not correct. Keep trying.\"\u001b[0m\u001b[0;34m\u001b[0m\u001b[0;34m\u001b[0m\u001b[0m\n\u001b[1;32m      4\u001b[0m \u001b[0;32massert\u001b[0m \u001b[0mlen\u001b[0m\u001b[0;34m(\u001b[0m\u001b[0mdata_order\u001b[0m\u001b[0;34m)\u001b[0m \u001b[0;34m==\u001b[0m \u001b[0;36m11\u001b[0m\u001b[0;34m,\u001b[0m \u001b[0;34m\"Not correct. Keep trying.\"\u001b[0m\u001b[0;34m\u001b[0m\u001b[0;34m\u001b[0m\u001b[0m\n\u001b[1;32m      5\u001b[0m \u001b[0;32mfor\u001b[0m \u001b[0manimal\u001b[0m \u001b[0;32min\u001b[0m \u001b[0mdata_order\u001b[0m\u001b[0;34m:\u001b[0m\u001b[0;34m\u001b[0m\u001b[0;34m\u001b[0m\u001b[0m\n",
      "\u001b[0;32m/tmp/ipykernel_393/4051462855.py\u001b[0m in \u001b[0;36morder_animals\u001b[0;34m(data)\u001b[0m\n\u001b[1;32m      1\u001b[0m \u001b[0;32mdef\u001b[0m \u001b[0morder_animals\u001b[0m\u001b[0;34m(\u001b[0m\u001b[0mdata\u001b[0m\u001b[0;34m)\u001b[0m\u001b[0;34m:\u001b[0m\u001b[0;34m\u001b[0m\u001b[0;34m\u001b[0m\u001b[0m\n\u001b[0;32m----> 2\u001b[0;31m     \u001b[0mdata_sorted\u001b[0m \u001b[0;34m=\u001b[0m \u001b[0mlist\u001b[0m\u001b[0;34m(\u001b[0m\u001b[0msorted\u001b[0m\u001b[0;34m(\u001b[0m\u001b[0mutils\u001b[0m\u001b[0;34m.\u001b[0m\u001b[0mgenerate_data_lower\u001b[0m\u001b[0;34m(\u001b[0m\u001b[0;34m)\u001b[0m\u001b[0;34m,\u001b[0m \u001b[0mkey\u001b[0m\u001b[0;34m=\u001b[0m\u001b[0mitemgetter\u001b[0m\u001b[0;34m(\u001b[0m\u001b[0;34m'legs'\u001b[0m\u001b[0;34m)\u001b[0m\u001b[0;34m)\u001b[0m\u001b[0;34m)\u001b[0m\u001b[0;34m\u001b[0m\u001b[0;34m\u001b[0m\u001b[0m\n\u001b[0m\u001b[1;32m      3\u001b[0m     order = [(animal['animal_name'], animal['class_type'], animal['legs'])\n\u001b[1;32m      4\u001b[0m               for animal in data_sorted]\n\u001b[1;32m      5\u001b[0m     \u001b[0;32mreturn\u001b[0m \u001b[0morder\u001b[0m\u001b[0;34m\u001b[0m\u001b[0;34m\u001b[0m\u001b[0m\n",
      "\u001b[0;31mNameError\u001b[0m: name 'utils' is not defined"
     ]
    }
   ],
   "source": [
    "data_lower = data.data_lower\n",
    "data_order = order_animals(data_lower)\n",
    "assert isinstance(data_order, list), \"Not correct. Keep trying.\"\n",
    "assert len(data_order) == 11, \"Not correct. Keep trying.\"\n",
    "for animal in data_order:\n",
    "    assert len(animal) == 3, \"Not correct. Keep trying.\"\n",
    "    assert isinstance(animal[0], str), \"Not correct. Keep trying.\"\n",
    "    assert isinstance(animal[1], str), \"Not correct. Keep trying.\"\n",
    "    assert isinstance(animal[2], int), \"Not correct. Keep trying.\"\n",
    "\n",
    "assert data_order[3][0] == \"pheasant\", \"Not correct. Keep trying.\"\n",
    "assert data_order[6][0] == \"hawk\", \"Not correct. Keep trying.\"\n",
    "assert data_order[-1][0] == \"giraffe\", \"Not correct. Keep trying.\"\n",
    "assert data_order[0][1] == \"fish\", \"Not correct. Keep trying.\"\n",
    "assert data_order[4][1] == \"bird\", \"Not correct. Keep trying.\"\n",
    "assert data_order[-2][1] == \"mammal\", \"Not correct. Keep trying.\"\n",
    "assert data_order[0][2] == 0, \"Not correct. Keep trying.\"\n",
    "assert data_order[6][2] == 2, \"Not correct. Keep trying.\"\n",
    "assert data_order[-1][2] == 4, \"Not correct. Keep trying.\"\n",
    "\n",
    "print(\"Answer is correct. Good Job.\")"
   ]
  },
  {
   "cell_type": "markdown",
   "id": "464102ff",
   "metadata": {
    "deletable": false,
    "editable": false,
    "nbgrader": {
     "grade": false,
     "grade_id": "cell-2ebd165a0a21a102",
     "locked": true,
     "schema_version": 3,
     "solution": false,
     "task": false
    }
   },
   "source": [
    "## Question 5\n",
    "\n",
    "The variable `data` is a list of dictionaries.\n",
    "\n",
    "Create a function `mammal_letters` that:\n",
    "\n",
    "- Receives as argument a list of dictionaries;\n",
    "- Filter all the mammals;\n",
    "- Return the average number of letters in the mammals' names. The return type must be a float;"
   ]
  },
  {
   "cell_type": "code",
   "execution_count": 21,
   "id": "a21c061a",
   "metadata": {
    "deletable": false,
    "nbgrader": {
     "grade": false,
     "grade_id": "cell-81f72032281eb943",
     "locked": false,
     "schema_version": 3,
     "solution": true,
     "task": false
    }
   },
   "outputs": [],
   "source": [
    "def mammals_letters(data):\n",
    "    mammals = [len(animal['animal_name'])\n",
    "              for animal in data\n",
    "              if animal ['class_type'] == 'mammal']\n",
    "    return sum(mammals) / len(mammals)"
   ]
  },
  {
   "cell_type": "code",
   "execution_count": 22,
   "id": "6f2961b3",
   "metadata": {
    "deletable": false,
    "editable": false,
    "nbgrader": {
     "grade": true,
     "grade_id": "cell-03842b58f0727f29",
     "locked": true,
     "points": 3,
     "schema_version": 3,
     "solution": false,
     "task": false
    }
   },
   "outputs": [
    {
     "name": "stdout",
     "output_type": "stream",
     "text": [
      "Answer is correct. Good Job.\n"
     ]
    }
   ],
   "source": [
    "data_lower = data.data_lower\n",
    "data_letters = mammals_letters(data_lower)\n",
    "assert isinstance(data_letters, float), \"Not correct. Keep trying.\"\n",
    "assert math.isclose(data_letters,\n",
    "                    4.75,\n",
    "                    abs_tol=0.01), \"Not correct. Keep trying.\"\n",
    "print(\"Answer is correct. Good Job.\")"
   ]
  },
  {
   "cell_type": "markdown",
   "id": "6bdc1941",
   "metadata": {
    "deletable": false,
    "editable": false,
    "nbgrader": {
     "grade": false,
     "grade_id": "cell-bf63f15448b685e4",
     "locked": true,
     "schema_version": 3,
     "solution": false,
     "task": false
    }
   },
   "source": [
    "## Question 6\n",
    "\n",
    "Create an `Animal` class.\n",
    "\n",
    "The class has three class parameters: `animal_name` (str), `animal_type` (str) and `eggs` (bool).\n",
    "Implement a method called `lay_eggs` that:\n",
    "- Returns random number between 0 and 10 if the animal can lay eggs (eggs parameter = True)\n",
    "- Returns the sentence \"I can't lay eggs...\" if the animal doesn't lay eggs"
   ]
  },
  {
   "cell_type": "code",
   "execution_count": 23,
   "id": "506c8f22",
   "metadata": {
    "deletable": false,
    "nbgrader": {
     "grade": false,
     "grade_id": "cell-786ac51bf37eef4c",
     "locked": false,
     "schema_version": 3,
     "solution": true,
     "task": false
    }
   },
   "outputs": [],
   "source": [
    "class Animal:\n",
    "    def __init__(self, animal_name, animal_type, eggs):\n",
    "        self.animal_name = animal_name\n",
    "        self.animal_type = animal_type\n",
    "        self.eggs = eggs\n",
    "    \n",
    "    def lay_eggs(self):\n",
    "        return random.randint(0,10) if self.eggs else \"I can't lay eggs...\""
   ]
  },
  {
   "cell_type": "code",
   "execution_count": 24,
   "id": "ac2e1db9",
   "metadata": {
    "deletable": false,
    "editable": false,
    "nbgrader": {
     "grade": true,
     "grade_id": "cell-f50a68ec0e515188",
     "locked": true,
     "points": 5,
     "schema_version": 3,
     "solution": false,
     "task": false
    }
   },
   "outputs": [
    {
     "name": "stdout",
     "output_type": "stream",
     "text": [
      "Answer is correct. Good Job.\n"
     ]
    }
   ],
   "source": [
    "test1 = Animal(\"Duck\", \"bird\", True)\n",
    "assert isinstance(test1.lay_eggs(), int), \"Not correct. Keep trying.\"\n",
    "assert test1.lay_eggs() >= 0, \"Not correct. Keep trying.\"\n",
    "assert test1.lay_eggs() <= 10, \"Not correct. Keep trying.\"\n",
    "\n",
    "test2 = Animal(\"Dolphin\", \"mammal\", False)\n",
    "assert isinstance(test2.lay_eggs(), str), \"Not correct. Keep trying.\"\n",
    "assert test2.lay_eggs() == \"I can't lay eggs...\", \"Not correct. Keep trying.\"\n",
    "print(\"Answer is correct. Good Job.\")"
   ]
  },
  {
   "cell_type": "markdown",
   "id": "93e0e6a6",
   "metadata": {
    "deletable": false,
    "editable": false,
    "nbgrader": {
     "grade": false,
     "grade_id": "cell-11ad011ecd15fd1b",
     "locked": true,
     "schema_version": 3,
     "solution": false,
     "task": false
    }
   },
   "source": [
    "### Last but not least, get your grade!\n",
    "\n",
    "To know your grade, run the following command in the **COMMAND LINE:**\n",
    "\n",
    "`python grading.py`"
   ]
  }
 ],
 "metadata": {
  "kernelspec": {
   "display_name": "Python 3 (ipykernel)",
   "language": "python",
   "name": "python3"
  },
  "language_info": {
   "codemirror_mode": {
    "name": "ipython",
    "version": 3
   },
   "file_extension": ".py",
   "mimetype": "text/x-python",
   "name": "python",
   "nbconvert_exporter": "python",
   "pygments_lexer": "ipython3",
   "version": "3.7.13"
  }
 },
 "nbformat": 4,
 "nbformat_minor": 5
}
